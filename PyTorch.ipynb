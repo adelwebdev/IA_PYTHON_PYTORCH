{
 "cells": [
  {
   "cell_type": "code",
   "execution_count": 1,
   "id": "eded7cde",
   "metadata": {},
   "outputs": [],
   "source": [
    "import torch"
   ]
  },
  {
   "cell_type": "code",
   "execution_count": 20,
   "id": "cade4315",
   "metadata": {},
   "outputs": [
    {
     "name": "stdout",
     "output_type": "stream",
     "text": [
      "empty(1): tensor([1.4013e-45])\n"
     ]
    }
   ],
   "source": [
    "x = torch.empty(1)\n",
    "print(\"empty(1):\",x)"
   ]
  },
  {
   "cell_type": "code",
   "execution_count": 26,
   "id": "6ac3d466",
   "metadata": {},
   "outputs": [
    {
     "name": "stdout",
     "output_type": "stream",
     "text": [
      "empty(3): tensor([9.2196e-41, 1.8980e+01, 2.6757e-29])\n"
     ]
    }
   ],
   "source": [
    "x = torch.empty(3)\n",
    "print(\"empty(3):\",x)"
   ]
  },
  {
   "cell_type": "code",
   "execution_count": 27,
   "id": "3103b010",
   "metadata": {},
   "outputs": [
    {
     "name": "stdout",
     "output_type": "stream",
     "text": [
      "empty(2, 3): tensor([[ 0.0000e+00,  0.0000e+00,  0.0000e+00],\n",
      "        [ 4.5829e-41,  0.0000e+00, -3.6893e+19]])\n"
     ]
    }
   ],
   "source": [
    "x = torch.empty(2, 3)\n",
    "print(\"empty(2, 3):\",x)"
   ]
  },
  {
   "cell_type": "code",
   "execution_count": 28,
   "id": "2a35abe3",
   "metadata": {},
   "outputs": [
    {
     "name": "stdout",
     "output_type": "stream",
     "text": [
      "empty(2, 2, 3): tensor([[[ 0.0000e+00, -3.6893e+19,  0.0000e+00],\n",
      "         [-3.6893e+19,  1.1210e-44,  3.6893e+19]],\n",
      "\n",
      "        [[ 6.9429e-29,  3.6902e+19,  0.0000e+00],\n",
      "         [-3.6893e+19,  0.0000e+00, -3.6893e+19]]])\n"
     ]
    }
   ],
   "source": [
    "x = torch.empty(2, 2, 3)\n",
    "print(\"empty(2, 2, 3):\",x)"
   ]
  },
  {
   "cell_type": "code",
   "execution_count": 30,
   "id": "7a7683d8",
   "metadata": {},
   "outputs": [
    {
     "name": "stdout",
     "output_type": "stream",
     "text": [
      "empty(2, 2, 2, 3): tensor([[[[ 0.0000e+00, -3.6893e+19,  6.9874e-29],\n",
      "          [-8.5920e+09,  4.2007e-29,  4.5829e-41]],\n",
      "\n",
      "         [[ 4.2144e-29,  4.5829e-41,  4.2109e-29],\n",
      "          [ 4.5829e-41,  4.2070e-29,  4.5829e-41]]],\n",
      "\n",
      "\n",
      "        [[[ 4.2072e-29,  4.5829e-41,  4.2105e-29],\n",
      "          [ 4.5829e-41,  4.2039e-29,  4.5829e-41]],\n",
      "\n",
      "         [[ 3.5322e-29,  4.5829e-41,  3.0783e-29],\n",
      "          [ 4.5829e-41,  4.2099e-29,  4.5829e-41]]]])\n"
     ]
    }
   ],
   "source": [
    "x = torch.empty(2, 2, 2, 3)\n",
    "print(\"empty(2, 2, 2, 3):\",x)"
   ]
  },
  {
   "cell_type": "code",
   "execution_count": 31,
   "id": "e74d86cd",
   "metadata": {},
   "outputs": [
    {
     "name": "stdout",
     "output_type": "stream",
     "text": [
      "zeros(5, 3): tensor([[0., 0., 0.],\n",
      "        [0., 0., 0.],\n",
      "        [0., 0., 0.],\n",
      "        [0., 0., 0.],\n",
      "        [0., 0., 0.]])\n"
     ]
    }
   ],
   "source": [
    "x = torch.zeros(5, 3)\n",
    "print(\"zeros(5, 3):\", x)"
   ]
  },
  {
   "cell_type": "code",
   "execution_count": 32,
   "id": "a733a84e",
   "metadata": {},
   "outputs": [
    {
     "name": "stdout",
     "output_type": "stream",
     "text": [
      "rand(5, 3): tensor([[0.1301, 0.6897, 0.5328],\n",
      "        [0.6313, 0.1902, 0.0924],\n",
      "        [0.6566, 0.7913, 0.6699],\n",
      "        [0.4572, 0.7586, 0.5778],\n",
      "        [0.2553, 0.2757, 0.7374]])\n"
     ]
    }
   ],
   "source": [
    "x = torch.rand(5, 3)\n",
    "print(\"rand(5, 3):\", x)"
   ]
  },
  {
   "cell_type": "code",
   "execution_count": 33,
   "id": "1480946c",
   "metadata": {},
   "outputs": [
    {
     "name": "stdout",
     "output_type": "stream",
     "text": [
      "ones(3, 4): tensor([[1., 1., 1., 1.],\n",
      "        [1., 1., 1., 1.],\n",
      "        [1., 1., 1., 1.]])\n"
     ]
    }
   ],
   "source": [
    "x = torch.ones(3,4)\n",
    "print(\"ones(3, 4):\", x)"
   ]
  },
  {
   "cell_type": "code",
   "execution_count": 34,
   "id": "eb8e0aa0",
   "metadata": {},
   "outputs": [
    {
     "name": "stdout",
     "output_type": "stream",
     "text": [
      "size torch.Size([3, 4])\n",
      "shape torch.Size([3, 4])\n"
     ]
    }
   ],
   "source": [
    "print(\"size\", x.size())\n",
    "print(\"shape\", x.shape)"
   ]
  },
  {
   "cell_type": "code",
   "execution_count": 38,
   "id": "bf03f1b9",
   "metadata": {},
   "outputs": [
    {
     "name": "stdout",
     "output_type": "stream",
     "text": [
      "torch.float16\n",
      "tensor([[0., 0., 0.],\n",
      "        [0., 0., 0.],\n",
      "        [0., 0., 0.],\n",
      "        [0., 0., 0.],\n",
      "        [0., 0., 0.]], dtype=torch.float16)\n",
      "torch.float16\n"
     ]
    }
   ],
   "source": [
    "print(x.dtype)\n",
    "x = torch.zeros(5, 3, dtype = torch.float16)\n",
    "print(x)\n",
    "print(x.dtype)"
   ]
  },
  {
   "cell_type": "code",
   "execution_count": 39,
   "id": "6f27b20d",
   "metadata": {},
   "outputs": [
    {
     "name": "stdout",
     "output_type": "stream",
     "text": [
      "tensor([5.5000, 3.0000]) torch.float32\n"
     ]
    }
   ],
   "source": [
    "x = torch.tensor([5.5, 3])\n",
    "print(x, x.dtype)"
   ]
  },
  {
   "cell_type": "code",
   "execution_count": 41,
   "id": "63f31425",
   "metadata": {},
   "outputs": [
    {
     "name": "stdout",
     "output_type": "stream",
     "text": [
      "tensor([5.5000, 3.0000], requires_grad=True)\n"
     ]
    }
   ],
   "source": [
    "x = torch.tensor([5.5, 3], requires_grad = True)\n",
    "print(x)"
   ]
  },
  {
   "cell_type": "code",
   "execution_count": 50,
   "id": "48641685",
   "metadata": {},
   "outputs": [
    {
     "name": "stdout",
     "output_type": "stream",
     "text": [
      "tensor([[1., 1.],\n",
      "        [1., 1.]])\n",
      "tensor([[0.4841, 0.4679],\n",
      "        [0.0311, 0.3426]])\n",
      "tensor([[ 2.0657,  2.1371],\n",
      "        [32.1214,  2.9191]])\n"
     ]
    }
   ],
   "source": [
    "x = torch.ones(2, 2)\n",
    "y = torch.rand(2, 2)\n",
    "z = x / y\n",
    "print(x)\n",
    "print(y)\n",
    "print(z)\n",
    "# torch.mul(x,y)"
   ]
  },
  {
   "cell_type": "code",
   "execution_count": 56,
   "id": "0040ef85",
   "metadata": {},
   "outputs": [
    {
     "name": "stdout",
     "output_type": "stream",
     "text": [
      "tensor([[0.2118, 0.4466, 0.1453],\n",
      "        [0.1475, 0.4153, 0.6217],\n",
      "        [0.9642, 0.5282, 0.0384],\n",
      "        [0.0841, 0.3004, 0.6296],\n",
      "        [0.9864, 0.3357, 0.1829]])\n",
      "x[:, 0] tensor([0.2118, 0.1475, 0.9642, 0.0841, 0.9864])\n",
      "x[1, :] tensor([0.1475, 0.4153, 0.6217])\n",
      "x[:, 1] tensor(0.4153)\n",
      "x[1, 1].item() 0.4153144955635071\n"
     ]
    }
   ],
   "source": [
    "x = torch.rand(5, 3)\n",
    "print(x)\n",
    "print(\"x[:, 0]\", x[:, 0])\n",
    "print(\"x[1, :]\", x[1, :])\n",
    "print(\"x[:, 1]\", x[1, 1])\n",
    "\n",
    "print(\"x[1, 1].item()\", x[1, 1].item())"
   ]
  },
  {
   "cell_type": "code",
   "execution_count": 63,
   "id": "c899cb14",
   "metadata": {},
   "outputs": [
    {
     "name": "stdout",
     "output_type": "stream",
     "text": [
      "tensor([[0.5607, 0.1174, 0.5771, 0.5678],\n",
      "        [0.4408, 0.0157, 0.3130, 0.0294],\n",
      "        [0.7944, 0.1587, 0.4438, 0.0650],\n",
      "        [0.8959, 0.5556, 0.0143, 0.1880]])\n",
      "tensor([0.5607, 0.1174, 0.5771, 0.5678, 0.4408, 0.0157, 0.3130, 0.0294, 0.7944,\n",
      "        0.1587, 0.4438, 0.0650, 0.8959, 0.5556, 0.0143, 0.1880])\n",
      "tensor([[0.5607, 0.1174, 0.5771, 0.5678, 0.4408, 0.0157, 0.3130, 0.0294],\n",
      "        [0.7944, 0.1587, 0.4438, 0.0650, 0.8959, 0.5556, 0.0143, 0.1880]])\n",
      "torch.Size([4, 4]) torch.Size([16]) torch.Size([2, 8])\n"
     ]
    }
   ],
   "source": [
    "x = torch.rand(4, 4)\n",
    "print(x)\n",
    "y = x.view(16)\n",
    "print(y)\n",
    "z = x.view(-1, 8)\n",
    "print(z)\n",
    "print(x.size(), y.size(), z.size())"
   ]
  },
  {
   "cell_type": "code",
   "execution_count": null,
   "id": "f1029140",
   "metadata": {},
   "outputs": [],
   "source": []
  },
  {
   "cell_type": "code",
   "execution_count": 69,
   "id": "6dc0ab02",
   "metadata": {},
   "outputs": [
    {
     "name": "stdout",
     "output_type": "stream",
     "text": [
      "tensor([1., 1., 1., 1., 1.])\n",
      "[1. 1. 1. 1. 1.]\n",
      "<class 'numpy.ndarray'>\n"
     ]
    }
   ],
   "source": [
    "a = torch.ones(5)\n",
    "print(a)\n",
    "b = a.numpy()\n",
    "print(b)\n",
    "print(type(b))"
   ]
  },
  {
   "cell_type": "code",
   "execution_count": 72,
   "id": "8b0295bb",
   "metadata": {},
   "outputs": [
    {
     "name": "stdout",
     "output_type": "stream",
     "text": [
      "tensor([4., 4., 4., 4., 4.])\n",
      "[4. 4. 4. 4. 4.]\n"
     ]
    }
   ],
   "source": [
    "a.add_(1)\n",
    "print(a)\n",
    "print(b)"
   ]
  },
  {
   "cell_type": "code",
   "execution_count": 74,
   "id": "f1404bb5",
   "metadata": {},
   "outputs": [
    {
     "name": "stdout",
     "output_type": "stream",
     "text": [
      "[1. 1. 1. 1. 1.]\n",
      "tensor([1., 1., 1., 1., 1.], dtype=torch.float64)\n",
      "tensor([1., 1., 1., 1., 1.], dtype=torch.float64)\n",
      "[2. 2. 2. 2. 2.]\n",
      "tensor([2., 2., 2., 2., 2.], dtype=torch.float64)\n",
      "tensor([1., 1., 1., 1., 1.], dtype=torch.float64)\n"
     ]
    }
   ],
   "source": [
    "import numpy as np\n",
    "a = np.ones(5)\n",
    "b = torch.from_numpy(a)\n",
    "c = torch.tensor(a)\n",
    "print(a)\n",
    "print(b)\n",
    "print(c)\n",
    "a+= 1\n",
    "print(a)\n",
    "print(b)\n",
    "print(c)"
   ]
  },
  {
   "cell_type": "code",
   "execution_count": 77,
   "id": "05a57fb7",
   "metadata": {},
   "outputs": [],
   "source": [
    "device = torch.device('cuda' if torch.cuda.is_available() else 'cpu')\n",
    "x = torch.rand(2, 2).to(device)"
   ]
  },
  {
   "cell_type": "code",
   "execution_count": 79,
   "id": "f6ffbc03",
   "metadata": {},
   "outputs": [
    {
     "name": "stdout",
     "output_type": "stream",
     "text": [
      "tensor([0.3627, 0.3592, 0.9919], requires_grad=True)\n",
      "tensor([2.3627, 2.3592, 2.9919], grad_fn=<AddBackward0>)\n",
      "<AddBackward0 object at 0x7fc0e11510d0>\n"
     ]
    }
   ],
   "source": [
    "# AUTOGRAD\n",
    "x = torch.rand(3, requires_grad=True)\n",
    "y = x + 2\n",
    "print(x)\n",
    "print(y)\n",
    "print(y.grad_fn)"
   ]
  },
  {
   "cell_type": "code",
   "execution_count": 81,
   "id": "c78a5701",
   "metadata": {},
   "outputs": [
    {
     "name": "stdout",
     "output_type": "stream",
     "text": [
      "tensor([16.7466, 16.6979, 26.8538], grad_fn=<MulBackward0>)\n",
      "tensor(20.0994, grad_fn=<MeanBackward0>)\n"
     ]
    }
   ],
   "source": [
    "z = y * y * 3\n",
    "print(z)\n",
    "z = z.mean()\n",
    "print(z)"
   ]
  },
  {
   "cell_type": "code",
   "execution_count": 93,
   "id": "015ac3cf",
   "metadata": {},
   "outputs": [
    {
     "name": "stdout",
     "output_type": "stream",
     "text": [
      "tensor([4.7253, 4.7185, 5.9837])\n"
     ]
    }
   ],
   "source": [
    "# z.backward()\n",
    "print(x.grad)"
   ]
  },
  {
   "cell_type": "code",
   "execution_count": 98,
   "id": "d8f54120",
   "metadata": {},
   "outputs": [
    {
     "name": "stdout",
     "output_type": "stream",
     "text": [
      "tensor([[ 0.1881,  0.7609],\n",
      "        [-1.0803, -0.1346]])\n",
      "tensor(1.7995)\n",
      "False\n",
      "None\n",
      "True\n",
      "<SumBackward0 object at 0x7fc0e117c400>\n"
     ]
    }
   ],
   "source": [
    "a = torch.randn(2, 2)\n",
    "b = (a * a).sum()\n",
    "print(a)\n",
    "print(b)\n",
    "print(a.requires_grad)\n",
    "print(b.grad_fn)\n",
    "\n",
    "a.requires_grad_(True)\n",
    "b = (a * a).sum()\n",
    "print(a.requires_grad)\n",
    "print(b.grad_fn)"
   ]
  },
  {
   "cell_type": "code",
   "execution_count": 102,
   "id": "4b43baa2",
   "metadata": {},
   "outputs": [
    {
     "name": "stdout",
     "output_type": "stream",
     "text": [
      "tensor([[0.8411, 0.8493],\n",
      "        [0.5399, 0.7518]], requires_grad=True)\n",
      "tensor([[0.8411, 0.8493],\n",
      "        [0.5399, 0.7518]])\n",
      "True\n",
      "False\n"
     ]
    }
   ],
   "source": [
    "a = torch.rand(2, 2, requires_grad=True)\n",
    "b = a. detach()\n",
    "print(a)\n",
    "print(b)\n",
    "print(a.requires_grad)\n",
    "print(b.requires_grad)"
   ]
  },
  {
   "cell_type": "code",
   "execution_count": 106,
   "id": "8f8a1c3d",
   "metadata": {},
   "outputs": [
    {
     "name": "stdout",
     "output_type": "stream",
     "text": [
      "True\n",
      "False\n",
      "tensor([[ 0.4613, -0.2056],\n",
      "        [-0.6854,  0.2685]], requires_grad=True)\n",
      "tensor([[0.2128, 0.0423],\n",
      "        [0.4698, 0.0721]])\n"
     ]
    }
   ],
   "source": [
    "a = torch.randn(2, 2, requires_grad = True)\n",
    "print(a.requires_grad)\n",
    "with torch.no_grad():\n",
    "    b = a ** 2\n",
    "    print(b.requires_grad)\n",
    "    print(a)\n",
    "    print(b)\n"
   ]
  },
  {
   "cell_type": "code",
   "execution_count": 169,
   "id": "d614bbf8",
   "metadata": {},
   "outputs": [
    {
     "name": "stdout",
     "output_type": "stream",
     "text": [
      "Prediction before training: f(5.0) = 0.000\n",
      "epoch 100: w = 1.020, loss = 102.000\n",
      "Prediction after training: f(5.0) = 5.100\n"
     ]
    }
   ],
   "source": [
    "# LINEAR REGRESSION\n",
    "import torch\n",
    "\n",
    "x = torch.tensor([1, 2, 3, 4, 5, 6, 7, 8], dtype = torch.float32)\n",
    "y = torch.tensor([2, 4, 6, 8, 10, 12, 14, 16], dtype = torch.float32)\n",
    "w = torch.tensor(0.0, dtype = torch.float32, requires_grad = True)\n",
    "\n",
    "def forward(x):\n",
    "    return w * x \n",
    "\n",
    "def loss(y, y_pred):\n",
    "    return ((y_pred - y)**2).mean()\n",
    "\n",
    "x_test = 5.0\n",
    "print(f\"Prediction before training: f({x_test}) = {forward(x_test).item():.3f}\")\n",
    "\n",
    "# Training\n",
    "learning_rate = 0.01\n",
    "n_epochs = 100\n",
    "\n",
    "# Prediction\n",
    "for epoch in range(n_epochs):\n",
    "    y_pred = forward(x)\n",
    "\n",
    "# Loss\n",
    "l = loss(y, y_pred)\n",
    "\n",
    "# Calculate gradient = backward pass\n",
    "l.backward()\n",
    "\n",
    "# Update weights\n",
    "# w.data = w.data - learning_rate * w.grad\n",
    "with torch.no_grad():\n",
    "    w -= learning_rate * w.grad\n",
    "\n",
    "# zero the gradient after updating\n",
    "w.grad.zero_()\n",
    "\n",
    "if (epoch + 1) % 10 == 0:\n",
    "    print(f\"epoch {epoch+1}: w = {w.item():.3f}, loss = {l.item():.3f}\")\n",
    "    \n",
    "print(f\"Prediction after training: f({x_test}) = {forward(x_test).item():.3f}\")  \n",
    "\n",
    "\n"
   ]
  },
  {
   "cell_type": "code",
   "execution_count": 177,
   "id": "de8e957a",
   "metadata": {},
   "outputs": [
    {
     "name": "stdout",
     "output_type": "stream",
     "text": [
      "8\n",
      "1\n",
      "n_samples = 8, n_features = 1\n",
      "tensor([5.])\n"
     ]
    }
   ],
   "source": [
    "import torch\n",
    "import torch.nn as nn\n",
    "\n",
    "x = torch.tensor([[1], [2], [3], [4], [5], [6], [7], [8]], dtype = torch.float32)\n",
    "y = torch.tensor([[2], [4], [6], [8], [10], [12], [14], [16]], dtype = torch.float32)\n",
    "\n",
    "n_samples, n_features = x.shape\n",
    "print(n_samples)\n",
    "print(n_features)\n",
    "print(f\"n_samples = {n_samples}, n_features = {n_features}\")\n",
    "x_test = torch.tensor([5], dtype = torch.float32)\n",
    "print(x_test)\n"
   ]
  },
  {
   "cell_type": "code",
   "execution_count": 205,
   "id": "df15ef4d",
   "metadata": {
    "scrolled": false
   },
   "outputs": [
    {
     "name": "stdout",
     "output_type": "stream",
     "text": [
      "Prediction before training: f(5.0) = -2.283\n",
      "epoch 10 :w= -0.528016209602356 loss = 154.96360778808594\n",
      "epoch 20 :w= -0.528016209602356 loss = 154.96360778808594\n",
      "epoch 30 :w= -0.528016209602356 loss = 154.96360778808594\n",
      "epoch 40 :w= -0.528016209602356 loss = 154.96360778808594\n",
      "epoch 50 :w= -0.528016209602356 loss = 154.96360778808594\n",
      "epoch 60 :w= -0.528016209602356 loss = 154.96360778808594\n",
      "epoch 70 :w= -0.528016209602356 loss = 154.96360778808594\n",
      "epoch 80 :w= -0.528016209602356 loss = 154.96360778808594\n",
      "epoch 90 :w= -0.528016209602356 loss = 154.96360778808594\n",
      "epoch 100 :w= -0.528016209602356 loss = 154.96360778808594\n",
      "Prediction after training: f(5.0) = -2.283\n"
     ]
    }
   ],
   "source": [
    "class LinearRegression(nn.Module):\n",
    "    def __init__(self, input_dim, output_dim):\n",
    "        super(LinearRegression, self).__init__()\n",
    "        #         define different layers\n",
    "        self.lin = nn.Linear(input_dim, output_dim)\n",
    "        \n",
    "    def forward(self, x):\n",
    "        return self.lin(x)\n",
    "\n",
    "input_size, output_size = n_features, n_features\n",
    "model = LinearRegression(input_size, output_size)\n",
    "\n",
    "print(f\"Prediction before training: f({x_test.item()}) = {model(x_test).item():.3f}\")\n",
    "\n",
    "# define loss and optimizer\n",
    "learning_rate = 0.01\n",
    "n_epochs = 100\n",
    "\n",
    "loss = nn.MSELoss()\n",
    "optimizer = torch.optim.SGD(model.parameters(), lr = learning_rate)\n",
    "\n",
    "# Training loop\n",
    "for epoch in range(n_epochs):\n",
    "    #predict = forward pass with our model\n",
    "    y_predicted = model(x)\n",
    "    \n",
    "    #loss\n",
    "    l = loss(y, y_predicted)\n",
    "    \n",
    "    #calculate gradients = backward pass\n",
    "    l.backward\n",
    "    \n",
    "    # update weights\n",
    "    optimizer.step()\n",
    "    \n",
    "    # zero the gradient after updating\n",
    "    optimizer.zero_grad()\n",
    "    \n",
    "    if (epoch+1) % 10 == 0:\n",
    "        w, b = model.parameters()   \n",
    "        print(\"epoch\", epoch+1, \":w=\", w[0][0].item(), \"loss =\", l.item())    \n",
    "print(f\"Prediction after training: f({x_test.item()}) = {model(x_test).item():.3f}\")  \n"
   ]
  },
  {
   "cell_type": "code",
   "execution_count": 218,
   "id": "72308a86",
   "metadata": {},
   "outputs": [
    {
     "data": {
      "image/png": "[encoded data removed]",
      "text/plain": [
       "<Figure size 432x288 with 6 Axes>"
      ]
     },
     "metadata": {
      "needs_background": "light"
     },
     "output_type": "display_data"
    }
   ],
   "source": [
    "import torch\n",
    "import torch.nn as nn\n",
    "import torchvision\n",
    "import torchvision.transforms as transforms\n",
    "import matplotlib.pyplot as plt \n",
    "\n",
    "# Device configuration\n",
    "device = torch.device(\"cuda\" if torch.cuda.is_available() else \"cpu\")\n",
    "\n",
    "# Hyper-parameters\n",
    "input_size = 784 \n",
    "hidden_size = 500\n",
    "num_classes = 10\n",
    "num_epochs = 2\n",
    "batch_size = 100\n",
    "learning_rate = 0.001\n",
    "\n",
    "# MNIST dataset\n",
    "train_dataset = torchvision.datasets.MNIST(root=\"./data\", train = True, \n",
    "                                           transform = transforms.ToTensor(),\n",
    "                                           download=True)\n",
    "test_dataset = torchvision.datasets.MNIST(root=\"./data\", train = False,\n",
    "                                         transform = transforms.ToTensor())\n",
    "\n",
    "# Data loader\n",
    "train_loader = torch.utils.data.DataLoader(dataset = train_dataset, batch_size = batch_size,\n",
    "                                          shuffle = True)\n",
    "test_loader = torch.utils.data.DataLoader(dataset = test_dataset, batch_size = batch_size, \n",
    "                                          shuffle = False)\n",
    "\n",
    "examples = iter(test_loader)\n",
    "example_data, example_targets = next(examples)\n",
    "\n",
    "for i in range(6):\n",
    "    plt.subplot(2, 3, i+1)\n",
    "    plt.imshow(example_data[i][0], cmap = \"gray\")\n",
    "plt.show()    \n",
    "    "
   ]
  },
  {
   "cell_type": "code",
   "execution_count": 232,
   "id": "a7b9f7e6",
   "metadata": {},
   "outputs": [
    {
     "name": "stdout",
     "output_type": "stream",
     "text": [
      "Epoch [1/2], Step [100/600], Loss: 0.2763\n",
      "Epoch [1/2], Step [200/600], Loss: 0.1551\n",
      "Epoch [1/2], Step [300/600], Loss: 0.2628\n",
      "Epoch [1/2], Step [400/600], Loss: 0.0974\n",
      "Epoch [1/2], Step [500/600], Loss: 0.0839\n",
      "Epoch [1/2], Step [600/600], Loss: 0.1904\n",
      "Epoch [2/2], Step [100/600], Loss: 0.2190\n",
      "Epoch [2/2], Step [200/600], Loss: 0.1774\n",
      "Epoch [2/2], Step [300/600], Loss: 0.0750\n",
      "Epoch [2/2], Step [400/600], Loss: 0.0848\n",
      "Epoch [2/2], Step [500/600], Loss: 0.2420\n",
      "Epoch [2/2], Step [600/600], Loss: 0.1985\n"
     ]
    }
   ],
   "source": [
    "# Fully connected neural network with one hidden layer\n",
    "class NeuralNet(nn.Module):\n",
    "    def __init__(self, input_size, hidden_size, num_classes):\n",
    "        super(NeuralNet, self).__init__()\n",
    "        self.l1 = nn.Linear(input_size, hidden_size)\n",
    "        self.relu = nn.ReLU()\n",
    "        self.l2 = nn.Linear(hidden_size, num_classes)\n",
    "        \n",
    "    def forward(self, x):\n",
    "        out = self.l1(x)\n",
    "        out = self.relu(out)\n",
    "        out = self.l2(out)\n",
    "        # no activation and no softmax at the end\n",
    "        return out\n",
    "\n",
    "model = NeuralNet(input_size, hidden_size, num_classes).to(device)\n",
    "\n",
    "# Loss and optimizer\n",
    "criterion = nn.CrossEntropyLoss()\n",
    "optimizer = torch.optim.Adam(model.parameters(), lr=learning_rate)\n",
    "\n",
    "# Train the model\n",
    "n_total_steps = len(train_loader)\n",
    "for epoch in range(num_epochs):\n",
    "    for i, (images, labels) in enumerate(train_loader):\n",
    "        images = images.reshape(-1, 28*28).to(device)\n",
    "        labels = labels.to(device)\n",
    "        \n",
    "        outputs = model(images)\n",
    "        loss = criterion(outputs, labels)\n",
    "        \n",
    "        loss.backward()\n",
    "        optimizer.step()\n",
    "        optimizer.zero_grad()\n",
    "        \n",
    "        if (i+1) % 100 == 0:\n",
    "            print (f\"Epoch [{epoch+1}/{num_epochs}], Step [{i+1}/{n_total_steps}], Loss: {loss.item():.4f}\")\n",
    "\n",
    "\n",
    "    \n",
    "    "
   ]
  },
  {
   "cell_type": "code",
   "execution_count": 236,
   "id": "06078e40",
   "metadata": {},
   "outputs": [
    {
     "name": "stdout",
     "output_type": "stream",
     "text": [
      "Accuracy of the network of the 10000 test images: 97.15 %\n"
     ]
    }
   ],
   "source": [
    "# Test the model: we do not need to compute gradients\n",
    "with torch.no_grad():\n",
    "    n_correct = 0\n",
    "    n_samples = len(test_loader.dataset)\n",
    "    \n",
    "for images, labels in test_loader:\n",
    "    images = images.reshape(-1, 28*28).to(device)\n",
    "    labels = labels.to(device)\n",
    "    outputs = model(images)\n",
    "    # max returns (output_value, index)\n",
    "    _, predicted = torch.max(outputs, 1)\n",
    "    n_correct += (predicted == labels).sum().item()\n",
    "\n",
    "    \n",
    "acc = n_correct / n_samples\n",
    "print(f\"Accuracy of the network of the {n_samples} test images: {100*acc} %\")\n",
    "\n",
    "\n",
    "    \n",
    "\n",
    "    \n",
    "    \n",
    "    "
   ]
  },
  {
   "cell_type": "code",
   "execution_count": 243,
   "id": "3aa4faa3",
   "metadata": {},
   "outputs": [
    {
     "name": "stdout",
     "output_type": "stream",
     "text": [
      "Files already downloaded and verified\n",
      "Files already downloaded and verified\n"
     ]
    },
    {
     "data": {
      "image/png": "[encoded data removed]",
      "text/plain": [
       "<Figure size 432x288 with 1 Axes>"
      ]
     },
     "metadata": {
      "needs_background": "light"
     },
     "output_type": "display_data"
    }
   ],
   "source": [
    "# CNN\n",
    "import torch\n",
    "import torch.nn as nn\n",
    "import torch.nn.functional as F\n",
    "import torchvision\n",
    "import torchvision.transforms as transforms\n",
    "import matplotlib.pyplot as plt\n",
    "import numpy as np\n",
    "\n",
    "# Device configuration\n",
    "device = torch.device('cuda' if torch.cuda.is_available() else 'cpu')\n",
    "# Hper-parameters\n",
    "num_epochs = 10\n",
    "batch_size = 32\n",
    "learning_rate = 0.001\n",
    "\n",
    "# Dataset has PILImage images of range [0, 1].\n",
    "# We transform them to tensors of normalized range [-1, 1]\n",
    "transform = transforms.Compose([transforms.ToTensor(),\n",
    "                               transforms.Normalize((0.5, 0.5, 0.5), (0.5, 0.5, 0.5))])\n",
    "\n",
    "# CIFARIO: 60000 32*32 color images in 10 classes, with 6000 images per class\n",
    "train_dataset = torchvision.datasets.CIFAR10(root='./data', train=True,\n",
    "                                             download=True, transform=transform)\n",
    "test_dataset = torchvision.datasets.CIFAR10(root='./data', train=False,\n",
    "                                             download=True, transform=transform)\n",
    "train_loader = torch.utils.data.DataLoader(train_dataset, batch_size=batch_size, \n",
    "                                           shuffle=True)\n",
    "test_loader = torch.utils.data.DataLoader(train_dataset, batch_size=batch_size, \n",
    "                                           shuffle=False)\n",
    "classes = ('plane', 'car', 'bird', 'cat', 'deer', 'dog', 'frog', 'horse', 'ship', 'truck')\n",
    "\n",
    "def imshow(imgs):\n",
    "    imgs = imgs / 2 + 0.5   \n",
    "    npimgs = imgs.numpy()\n",
    "    plt.imshow(np.transpose(npimgs, (1, 2, 0)))\n",
    "    plt.show()\n",
    " \n",
    "# one batch of random training images\n",
    "dataiter = iter(train_loader)\n",
    "images, labels = next(dataiter)\n",
    "img_grid = torchvision.utils.make_grid(images[0:25], nrow = 5)\n",
    "imshow(img_grid)\n",
    "\n",
    "    \n",
    "\n"
   ]
  },
  {
   "cell_type": "code",
   "execution_count": 245,
   "id": "7d8ea1fc",
   "metadata": {},
   "outputs": [],
   "source": [
    "class ConvNet(nn.Module):\n",
    "    def __init__(self):\n",
    "        super().__init__()\n",
    "        self.conv1 = nn.Conv2d(3, 32, 3)\n",
    "        self.pool = nn.MaxPool2d(2, 2)\n",
    "        self.conv2 = nn.Conv2d(32, 64, 3)\n",
    "        self.conv3 = nn.Conv2d(64, 64, 3)\n",
    "        self.fc1 = nn.Linear(64*4*4, 64)\n",
    "        self.fc2 = nn.Linear(64, 10)\n",
    "   \n",
    "def forward(self, x):\n",
    "    #     N, 3, 32, 32\n",
    "    x = F.relu(self.conv1(x)) \n",
    "    x = self.pool(x)\n",
    "    x = F.relu(self.conv2(x))\n",
    "    x = self.pool(x)\n",
    "    x = F.relu(self.conv3(x))\n",
    "    x = torch.flatten(x, 1)\n",
    "    x = F.relu(self.fcl(x))\n",
    "    x = self.fc2(x)\n",
    "    return x \n",
    "    \n",
    "    \n",
    "\n"
   ]
  },
  {
   "cell_type": "code",
   "execution_count": null,
   "id": "a6df8a4e",
   "metadata": {},
   "outputs": [],
   "source": []
  }
 ],
 "metadata": {
  "kernelspec": {
   "display_name": "Python 3 (ipykernel)",
   "language": "python",
   "name": "python3"
  },
  "language_info": {
   "codemirror_mode": {
    "name": "ipython",
    "version": 3
   },
   "file_extension": ".py",
   "mimetype": "text/x-python",
   "name": "python",
   "nbconvert_exporter": "python",
   "pygments_lexer": "ipython3",
   "version": "3.9.7"
  }
 },
 "nbformat": 4,
 "nbformat_minor": 5
}
